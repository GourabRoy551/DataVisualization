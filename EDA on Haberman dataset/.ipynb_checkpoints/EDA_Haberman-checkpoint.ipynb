{
 "cells": [
  {
   "cell_type": "markdown",
   "metadata": {},
   "source": [
    "High level statistics of the dataset: number of points, numer of features, number of classes, data-points per class.\n",
    "\n",
    "Explain our objective.\n",
    "\n",
    "Perform Univaraite analysis(PDF, CDF, Boxplot, Voilin plots) to understand which features are useful towards classification.\n",
    "\n",
    "Perform Bi-variate analysis (scatter plots, pair-plots) to see if combinations of features are useful in classfication.\n",
    "\n",
    "Write your observations in english as crisply and unambigously as possible. Always quantify your results."
   ]
  },
  {
   "cell_type": "code",
   "execution_count": null,
   "metadata": {},
   "outputs": [],
   "source": []
  }
 ],
 "metadata": {
  "kernelspec": {
   "display_name": "Python 3",
   "language": "python",
   "name": "python3"
  },
  "language_info": {
   "codemirror_mode": {
    "name": "ipython",
    "version": 3
   },
   "file_extension": ".py",
   "mimetype": "text/x-python",
   "name": "python",
   "nbconvert_exporter": "python",
   "pygments_lexer": "ipython3",
   "version": "3.6.5"
  }
 },
 "nbformat": 4,
 "nbformat_minor": 2
}
